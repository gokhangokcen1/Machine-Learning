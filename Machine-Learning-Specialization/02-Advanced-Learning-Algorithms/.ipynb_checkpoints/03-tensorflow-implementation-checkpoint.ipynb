{
 "cells": [
  {
   "cell_type": "raw",
   "id": "04e24305-9217-420a-8dc4-aff68f170fef",
   "metadata": {},
   "source": [
    "import tensorflow as tf\n",
    "from tensorflow.keras improt Sequantial \n",
    "from tensorflow.keras.layers import Dense\n",
    "\n",
    "model = Sequantial([\n",
    "    Dense(units=25, activation='sigmoid'),\n",
    "    Dense(units=15, activation='sigmoid'),\n",
    "    Dense(units=1, activation='sigmoid')\n",
    "])\n",
    "from tensorflow.keras.losses import BinaryCrossentropy \n",
    "\n",
    "model.compile(loss=BinaryCrossentropy())\n",
    "model.fit(X,Y,epochs=100)"
   ]
  },
  {
   "cell_type": "code",
   "execution_count": null,
   "id": "a1287f53-d85d-4670-97c3-d62776b38e89",
   "metadata": {},
   "outputs": [],
   "source": []
  }
 ],
 "metadata": {
  "kernelspec": {
   "display_name": "Python 3 (ipykernel)",
   "language": "python",
   "name": "python3"
  },
  "language_info": {
   "codemirror_mode": {
    "name": "ipython",
    "version": 3
   },
   "file_extension": ".py",
   "mimetype": "text/x-python",
   "name": "python",
   "nbconvert_exporter": "python",
   "pygments_lexer": "ipython3",
   "version": "3.13.2"
  }
 },
 "nbformat": 4,
 "nbformat_minor": 5
}
