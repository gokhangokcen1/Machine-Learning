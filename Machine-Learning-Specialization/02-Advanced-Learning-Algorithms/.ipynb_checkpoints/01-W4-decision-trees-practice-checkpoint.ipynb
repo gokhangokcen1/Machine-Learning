{
 "cells": [
  {
   "cell_type": "code",
   "execution_count": 4,
   "id": "6452a840-4c61-4828-bdeb-67dc40c0c43f",
   "metadata": {},
   "outputs": [],
   "source": [
    "import matplotlib.pyplot as plt\n",
    "import numpy as np\n"
   ]
  },
  {
   "cell_type": "markdown",
   "id": "e189a206-6caa-4f92-a0b0-c64c64e3a62b",
   "metadata": {},
   "source": [
    "# Veri seti\n",
    "10 mantar var \n",
    "Sınıflar: \n",
    " * Brown Cap\n",
    " * Tapering Stalk Shape\n",
    " * Solitary\n",
    "\n",
    "Çıkış olarak da:\n",
    " * Yenilebilir (1)\n",
    " * Zehirli (0) "
   ]
  },
  {
   "cell_type": "code",
   "execution_count": 5,
   "id": "4a442b52-3c02-4e0a-b6d4-d32b97f7d652",
   "metadata": {},
   "outputs": [],
   "source": [
    "X_train = np.array([[1,1,1],[1,0,1],[1,0,0],[1,0,0],[1,1,1],[0,1,1],[0,0,0],[1,0,1],[0,1,0],[1,0,0]])\n",
    "y_train = np.array([1,1,0,0,1,0,0,1,1,0])"
   ]
  },
  {
   "cell_type": "code",
   "execution_count": 6,
   "id": "3aebf943-b1d5-4296-983c-f4dfa56f6469",
   "metadata": {},
   "outputs": [
    {
     "name": "stdout",
     "output_type": "stream",
     "text": [
      "First few elements of X_train:\n",
      " [[1 1 1]\n",
      " [1 0 1]\n",
      " [1 0 0]\n",
      " [1 0 0]\n",
      " [1 1 1]]\n",
      "Type of X_train: <class 'numpy.ndarray'>\n"
     ]
    }
   ],
   "source": [
    "print(\"First few elements of X_train:\\n\", X_train[:5])\n",
    "print(\"Type of X_train:\",type(X_train))"
   ]
  },
  {
   "cell_type": "code",
   "execution_count": 8,
   "id": "78bb008e-6a1a-47d3-91a8-b06b4697927d",
   "metadata": {},
   "outputs": [
    {
     "name": "stdout",
     "output_type": "stream",
     "text": [
      "First few elements of y_train: [1 1 0 0 1]\n",
      "Type of y_train: <class 'numpy.ndarray'>\n"
     ]
    }
   ],
   "source": [
    "print(\"First few elements of y_train:\", y_train[:5])\n",
    "print(\"Type of y_train:\",type(y_train))"
   ]
  },
  {
   "cell_type": "code",
   "execution_count": 9,
   "id": "a7bfbb3f-6706-4947-b80c-d35d31a450e5",
   "metadata": {},
   "outputs": [
    {
     "name": "stdout",
     "output_type": "stream",
     "text": [
      "The shape of X_train is: (10, 3)\n",
      "The shape of y_train is:  (10,)\n",
      "Number of training examples (m): 10\n"
     ]
    }
   ],
   "source": [
    "print ('The shape of X_train is:', X_train.shape)\n",
    "print ('The shape of y_train is: ', y_train.shape)\n",
    "print ('Number of training examples (m):', len(X_train))"
   ]
  },
  {
   "attachments": {
    "0ce02c58-3e75-407b-b072-b7bf63f80b67.png": {
     "image/png": "[encoded data removed]"
    }
   },
   "cell_type": "markdown",
   "id": "10e68ced-f0f6-427c-8038-280763d155bb",
   "metadata": {},
   "source": [
    "# entropi hesaplama\n",
    "\n",
    "![image.png](attachment:0ce02c58-3e75-407b-b072-b7bf63f80b67.png)"
   ]
  },
  {
   "cell_type": "code",
   "execution_count": 10,
   "id": "aca30511-648a-4f50-b2f0-8b3fba70be51",
   "metadata": {},
   "outputs": [],
   "source": [
    "def compute_entropy(y):\n",
    "    entropy = 0\n",
    "    if len(y) == 0:\n",
    "        return entropy\n",
    "\n",
    "    p1 = np.sum(y) / len(y) # yenilebilir / tüm veri sayısı\n",
    "\n",
    "    if p1 == 0 or p1 == 1: # pure bir veri seti ise entropi = 0\n",
    "        return entropy\n",
    "\n",
    "    entropy = -p1 * np.log2(p1) - (1 - p1) * np.log2(1 - p1) \n",
    "    return entropy"
   ]
  },
  {
   "cell_type": "code",
   "execution_count": 11,
   "id": "0f9ff096-0a11-4736-b025-33c92a7f6626",
   "metadata": {},
   "outputs": [
    {
     "name": "stdout",
     "output_type": "stream",
     "text": [
      "Entropy at root node:  1.0\n"
     ]
    }
   ],
   "source": [
    "print(\"Entropy at root node: \", compute_entropy(y_train))"
   ]
  },
  {
   "cell_type": "markdown",
   "id": "7386c76f-23e4-4d84-b747-efb3b9a19acb",
   "metadata": {},
   "source": [
    "# veri setini sağ ve sol olarak bölme"
   ]
  },
  {
   "cell_type": "code",
   "execution_count": 12,
   "id": "12408f96-bdb9-45bb-8b11-412860f0ed3f",
   "metadata": {},
   "outputs": [],
   "source": [
    "def split_dataset(X, node_indices, feature):\n",
    "    left_indices = []\n",
    "    right_indices = []\n",
    "\n",
    "    for index in node_indices:\n",
    "        if X[index][feature] == 1:\n",
    "            left_indices.append(index)\n",
    "        else:\n",
    "            right_indices.append(index)\n",
    "    return left_indices, right_indices"
   ]
  },
  {
   "cell_type": "code",
   "execution_count": 15,
   "id": "f19df37e-a093-4f58-b9b9-2f860799b46b",
   "metadata": {},
   "outputs": [
    {
     "name": "stdout",
     "output_type": "stream",
     "text": [
      "CASE 1:\n",
      "Left indices:  [0, 1, 2, 3, 4, 7, 9]\n",
      "Right indices:  [5, 6, 8]\n",
      "CASE 2:\n",
      "Left indices:  [0, 2, 4]\n",
      "Right indices:  [6, 8]\n"
     ]
    }
   ],
   "source": [
    "# X_train = np.array([[1,1,1],[1,0,1],[1,0,0],[1,0,0],[1,1,1],[0,1,1],[0,0,0],[1,0,1],[0,1,0],[1,0,0]])\n",
    "\n",
    "# CASE 1\n",
    "root_indices = [0, 1, 2, 3, 4, 5, 6, 7, 8, 9]\n",
    "feature = 0\n",
    "left_indices, right_indices = split_dataset(X_train, root_indices, feature)\n",
    "\n",
    "print(\"CASE 1:\")\n",
    "print(\"Left indices: \", left_indices)\n",
    "print(\"Right indices: \", right_indices)\n",
    "\n",
    "# CASE 2\n",
    "root_indices_subset = [0, 2, 4, 6, 8]\n",
    "left_indices, right_indices = split_dataset(X_train, root_indices_subset, feature)\n",
    "\n",
    "print(\"CASE 2:\")\n",
    "print(\"Left indices: \", left_indices)\n",
    "print(\"Right indices: \", right_indices)\n"
   ]
  },
  {
   "attachments": {
    "83c36aa6-5faf-4187-bace-48e19de86d93.png": {
     "image/png": "[encoded data removed]"
    }
   },
   "cell_type": "markdown",
   "id": "01e7a7a5-cf50-47ae-a554-6f836fc9b044",
   "metadata": {},
   "source": [
    "# Information Gain \n",
    "![image.png](attachment:83c36aa6-5faf-4187-bace-48e19de86d93.png)"
   ]
  },
  {
   "cell_type": "code",
   "execution_count": 16,
   "id": "d480e8c8-4868-42d6-93e6-be1cc4d4f5d7",
   "metadata": {},
   "outputs": [],
   "source": [
    "def compute_information_gain(X,y,node_indices, feature):\n",
    "    # veri setini böl \n",
    "    left_indices, right_indices = split_dataset(X, node_indices, feature)\n",
    "\n",
    "    X_node, y_node = X[node_indices], y[node_indices]\n",
    "    X_left, y_left = X[left_indices], y[left_indices]\n",
    "    X_right, y_right = X[right_indices], y[right_indices]\n",
    "\n",
    "    information_gain = 0\n",
    "\n",
    "    entropy_node = compute_entropy(y_node)\n",
    "    entropy_left = compute_entropy(y_left)\n",
    "    entropy_right = compute_entropy(y_right)\n",
    "\n",
    "    w_left = len(y_left) / len(y_node) # soldakiler / tüm \n",
    "    w_right = len(y_right) / len(y_node) # sağdakiler / tüm\n",
    "\n",
    "    information_gain = entropy_node - (w_left * entropy_left + w_right * entropy_right)\n",
    "\n",
    "    return information_gain\n",
    "    "
   ]
  },
  {
   "cell_type": "code",
   "execution_count": 17,
   "id": "bda4635b-8b3a-47f6-a707-ea646dbeb339",
   "metadata": {},
   "outputs": [
    {
     "name": "stdout",
     "output_type": "stream",
     "text": [
      "Information Gain from splitting the root on brown cap:  0.034851554559677034\n",
      "Information Gain from splitting the root on tapering stalk shape:  0.12451124978365313\n",
      "Information Gain from splitting the root on solitary:  0.2780719051126377\n"
     ]
    }
   ],
   "source": [
    "info_gain0 = compute_information_gain(X_train, y_train, root_indices, feature=0)\n",
    "print(\"Information Gain from splitting the root on brown cap: \", info_gain0)\n",
    "\n",
    "info_gain1 = compute_information_gain(X_train, y_train, root_indices, feature=1)\n",
    "print(\"Information Gain from splitting the root on tapering stalk shape: \", info_gain1)\n",
    "\n",
    "info_gain2 = compute_information_gain(X_train, y_train, root_indices, feature=2)\n",
    "print(\"Information Gain from splitting the root on solitary: \", info_gain2)"
   ]
  },
  {
   "cell_type": "markdown",
   "id": "3acd4310-fc89-4128-947f-854b8ed701f2",
   "metadata": {},
   "source": [
    "Sonuca göre solitary en yüksek çıkan, karar ağaçlarına ona göre düzenlemek mantıklı"
   ]
  },
  {
   "cell_type": "markdown",
   "id": "ca4b3ec5-9af5-402a-b55e-2f9970c628cc",
   "metadata": {},
   "source": [
    "# information gain bilgisine göre veri setini en iyi şekilde bölmek"
   ]
  },
  {
   "cell_type": "code",
   "execution_count": 23,
   "id": "4d5c1e3f-acb2-4b21-a5a8-8f630f64e274",
   "metadata": {},
   "outputs": [],
   "source": [
    "def get_best_split(X, y, node_indices):\n",
    "    num_features = X.shape[1] # (10,3) \n",
    "    best_feature = -1\n",
    "\n",
    "    max_info_gain = 0\n",
    "    for feature in range(num_features):\n",
    "        info_gain = compute_information_gain(X,y,node_indices,feature)\n",
    "        if info_gain > max_info_gain:\n",
    "            max_info_gain = info_gain\n",
    "            best_feature = feature\n",
    "    return best_feature"
   ]
  },
  {
   "cell_type": "code",
   "execution_count": 24,
   "id": "64c79d9a-0d87-4ccd-96df-b1c23eb35764",
   "metadata": {},
   "outputs": [
    {
     "name": "stdout",
     "output_type": "stream",
     "text": [
      "Best feature to split on: 2\n"
     ]
    }
   ],
   "source": [
    "best_feature = get_best_split(X_train, y_train, root_indices)\n",
    "print(\"Best feature to split on: %d\" % best_feature)"
   ]
  },
  {
   "cell_type": "markdown",
   "id": "0bec4fc1-052c-41e6-8c05-9b12ce7c990e",
   "metadata": {},
   "source": [
    "# Ağacı oluşturmak"
   ]
  },
  {
   "cell_type": "code",
   "execution_count": 25,
   "id": "3ceb0feb-3ffe-4a18-a1d5-e4ba8257dc63",
   "metadata": {},
   "outputs": [],
   "source": [
    "tree = []\n",
    "\n",
    "def build_tree_recursive(X, y, node_indices, branch_name, max_depth, current_depth):\n",
    "    if current_depth == max_depth:\n",
    "        formatting = \" \"*current_depth + \"-\"*current_depth\n",
    "        print(formatting, \"%s leaf node with indices\" % branch_name, node_indices)\n",
    "        return \n",
    "\n",
    "    best_feature = get_best_split(X, y, node_indices) \n",
    "    formatting = \"-\"*current_depth\n",
    "    print(\"%s Depth %d, %s: Split on feature: %d\" % (formatting, current_depth, branch_name, best_feature))\n",
    "    \n",
    "    left_indices, right_indices = split_dataset(X, node_indices, best_feature)\n",
    "    tree.append((left_indices, right_indices, best_feature))\n",
    "    \n",
    "    build_tree_recursive(X, y, left_indices, \"Left\", max_depth, current_depth+1)\n",
    "    build_tree_recursive(X, y, right_indices, \"Right\", max_depth, current_depth+1)\n",
    "    "
   ]
  },
  {
   "cell_type": "code",
   "execution_count": 28,
   "id": "d601c216-d84c-4232-b850-307d43c981eb",
   "metadata": {},
   "outputs": [
    {
     "name": "stdout",
     "output_type": "stream",
     "text": [
      " Depth 0, Root: Split on feature: 2\n",
      "- Depth 1, Left: Split on feature: 0\n",
      "  -- Left leaf node with indices [0, 1, 4, 7]\n",
      "  -- Right leaf node with indices [5]\n",
      "- Depth 1, Right: Split on feature: 1\n",
      "  -- Left leaf node with indices [8]\n",
      "  -- Right leaf node with indices [2, 3, 6, 9]\n"
     ]
    }
   ],
   "source": [
    "build_tree_recursive(X_train, y_train, root_indices, \"Root\", max_depth=2, current_depth=0)\n"
   ]
  },
  {
   "cell_type": "code",
   "execution_count": null,
   "id": "7966aff5-32a9-4b9f-9141-a6e21bda6042",
   "metadata": {},
   "outputs": [],
   "source": []
  }
 ],
 "metadata": {
  "kernelspec": {
   "display_name": "Python 3 (ipykernel)",
   "language": "python",
   "name": "python3"
  },
  "language_info": {
   "codemirror_mode": {
    "name": "ipython",
    "version": 3
   },
   "file_extension": ".py",
   "mimetype": "text/x-python",
   "name": "python",
   "nbconvert_exporter": "python",
   "pygments_lexer": "ipython3",
   "version": "3.12.9"
  }
 },
 "nbformat": 4,
 "nbformat_minor": 5
}
