{
 "cells": [
  {
   "cell_type": "markdown",
   "id": "aadccf4e-822c-4899-8e9b-07841bbe3b65",
   "metadata": {},
   "source": [
    "# MNIST WITH SOFTMAX\n",
    "DON'T USE THIS VERSION"
   ]
  },
  {
   "cell_type": "code",
   "execution_count": 1,
   "id": "a109ec01-58ad-42f8-8352-d15fb1ab5ab9",
   "metadata": {},
   "outputs": [],
   "source": [
    "### specify the model\n",
    "import tensorflow as tf \n",
    "from tensorflow.keras import Sequential\n",
    "from tensorflow.keras.layers import Dense\n",
    "model = Sequential(\n",
    "    [\n",
    "        Dense(units=25, activation='relu'),\n",
    "        Dense(units=15, activation='relu'),\n",
    "        Dense(units=10, activation='softmax')\n",
    "    ]\n",
    ")\n",
    "# specify loss and cost \n",
    "from tensorflow.keras.losses import SparseCategoricalCrossentropy\n",
    "model.compile(loss = SparseCategoricalCrossentropy())\n",
    "\n",
    "# train on data to minimize J(w,b)\n",
    "model.fit(X,Y, epochs=100)"
   ]
  },
  {
   "cell_type": "markdown",
   "id": "86ae9a46-5ca0-4192-9b33-a84faa3e8e58",
   "metadata": {},
   "source": [
    "# softmax uygulamasının geliştirilmesi"
   ]
  },
  {
   "cell_type": "markdown",
   "id": "9cc6014b-7340-4833-bdcb-662482b4df93",
   "metadata": {},
   "source": [
    "## sayısal yuvarlama hatası"
   ]
  },
  {
   "cell_type": "code",
   "execution_count": 4,
   "id": "71b56f2e-c5ad-40fc-8816-2a62055cfc96",
   "metadata": {},
   "outputs": [
    {
     "name": "stdout",
     "output_type": "stream",
     "text": [
      "0.000200000000000000\n"
     ]
    }
   ],
   "source": [
    "x1 = 2.0 / 10000\n",
    "print(f\"{x1:.18f}\")"
   ]
  },
  {
   "cell_type": "code",
   "execution_count": 5,
   "id": "b8d6d3bf-013f-4001-a980-7540598876bb",
   "metadata": {},
   "outputs": [
    {
     "name": "stdout",
     "output_type": "stream",
     "text": [
      "0.000199999999999978\n"
     ]
    }
   ],
   "source": [
    "x2 = 1 + (1/10000) - (1 - 1/10000)\n",
    "print(f\"{x2:.18f}\")"
   ]
  },
  {
   "cell_type": "raw",
   "id": "37a8f0bf-c446-46ee-bb3a-f434c9dc840f",
   "metadata": {},
   "source": [
    "model = Sequential(\n",
    "    [\n",
    "        Dense(units=25, activation='relu'),\n",
    "        Dense(units=15, activation='relu'),\n",
    "        Dense(units=1, activation='linear')\n",
    "    ]\n",
    ")\n",
    "model.compile(loss=BinaryCrossEntropy(from_logits=True))"
   ]
  },
  {
   "cell_type": "markdown",
   "id": "88bc4031-67e6-4d83-ad9d-9cfcccbb3173",
   "metadata": {},
   "source": [
    "### softmax'in daha doğru kodu"
   ]
  },
  {
   "cell_type": "code",
   "execution_count": 22,
   "id": "32abddbd-508b-4c04-898c-60a64e48c9cc",
   "metadata": {},
   "outputs": [],
   "source": [
    "model = Sequential(\n",
    "    [\n",
    "        Dense(units=25, activation='relu'),\n",
    "        Dense(units=15, activation='relu'),\n",
    "        Dense(units=1, activation='linear')\n",
    "    ]\n",
    ")\n",
    "model.compile(loss=SparseCategoricalCrossentropy(from_logits=True))"
   ]
  },
  {
   "cell_type": "markdown",
   "id": "22fefe35-1d50-423a-8f3e-45fac3451e65",
   "metadata": {},
   "source": [
    "# MNIST (sayısal olarak daha doğru)"
   ]
  },
  {
   "cell_type": "code",
   "execution_count": null,
   "id": "b1a27947-a5d8-4545-819a-f8e3a010c71d",
   "metadata": {},
   "outputs": [],
   "source": [
    "# model \n",
    "import tensorflow as tf \n",
    "from tensorflow.keras import Sequential\n",
    "from tensorflow.keras.layers import Dense\n",
    "\n",
    "\n",
    "model = Sequential(\n",
    "    [\n",
    "        Dense(units=25, activation='relu'),\n",
    "        Dense(units=15, activation='relu'),\n",
    "        Dense(units=1, activation='linear')\n",
    "    ]\n",
    ")\n",
    "\n",
    "# loss\n",
    "from tensorflow.keras.losses import SparseCategoricalCrossentropy\n",
    "model.compile(..., loss= SparseCategoricalCrossentropy(from_logits=True))\n",
    "\n",
    "# fit\n",
    "model.fit(X,Y, epochs=100)\n",
    "\n",
    "# predict\n",
    "logits = model(X) # a1, ... , a10 değil. z1, z2, ..., z10 \n",
    "f_x = tf.nn.softmax(logits)"
   ]
  },
  {
   "cell_type": "markdown",
   "id": "8d2f3908-8cd9-4a57-8906-e5d4ebcfed49",
   "metadata": {},
   "source": [
    "# sayısal olarak daha doğru logistic regresyon"
   ]
  },
  {
   "cell_type": "code",
   "execution_count": null,
   "id": "92ba1386-846b-4df0-bfbb-11d98d5b50d9",
   "metadata": {},
   "outputs": [],
   "source": [
    "# model\n",
    "model = Sequential(\n",
    "    [\n",
    "        Dense(units=25, activation='relu'),\n",
    "        Dense(units=15, activation='relu'),\n",
    "        Dense(units=1, activation='linear')\n",
    "    ]\n",
    ")\n",
    "\n",
    "# loss\n",
    "from tensorflow.keras.losses import BinaryCrossentropy\n",
    "model.compile(..., BinaryCrossentropy(from_logits=True))\n",
    "\n",
    "# fit \n",
    "model.fit(X,Y, epochs=100)\n",
    "\n",
    "# predict\n",
    "logit = model(X)\n",
    "f_x = tf.nn.sigmoid(logit)"
   ]
  }
 ],
 "metadata": {
  "kernelspec": {
   "display_name": "Python 3 (ipykernel)",
   "language": "python",
   "name": "python3"
  },
  "language_info": {
   "codemirror_mode": {
    "name": "ipython",
    "version": 3
   },
   "file_extension": ".py",
   "mimetype": "text/x-python",
   "name": "python",
   "nbconvert_exporter": "python",
   "pygments_lexer": "ipython3",
   "version": "3.12.9"
  }
 },
 "nbformat": 4,
 "nbformat_minor": 5
}
