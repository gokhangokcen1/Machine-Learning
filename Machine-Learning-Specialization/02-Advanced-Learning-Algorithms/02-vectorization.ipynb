{
 "cells": [
  {
   "cell_type": "code",
   "execution_count": 2,
   "id": "5774a189-5215-4b74-8888-60d2794b59eb",
   "metadata": {},
   "outputs": [],
   "source": [
    "import numpy as np"
   ]
  },
  {
   "cell_type": "markdown",
   "id": "81c4a432-eef2-45eb-b7a3-871cf69ff259",
   "metadata": {},
   "source": [
    "FOR LOOPS"
   ]
  },
  {
   "cell_type": "raw",
   "id": "52237b2b-d707-4960-8120-c3753e2c0c2d",
   "metadata": {},
   "source": [
    "x = np.array([200, 17])\n",
    "\n",
    "W = np.array([[1, -3, 5],\n",
    "             [-2, 4, -6]])\n",
    "\n",
    "b = np.array([-1, 1, 2])\n",
    "\n",
    "def dense(a_in, W, b):\n",
    "    units = W.shape[1]\n",
    "    a_out = np.zeros(units)\n",
    "    for j in range(units):\n",
    "        w = W[:,j]\n",
    "        z = np.dot(w, a_in) + b[j]\n",
    "        a_out[j] = g(z)\n",
    "    return a_out\n",
    "\n",
    "dense(x, W, b)"
   ]
  },
  {
   "cell_type": "raw",
   "id": "08b2d829-af87-425b-8a42-24ddcf67df08",
   "metadata": {},
   "source": [
    "VECTORIZATION"
   ]
  },
  {
   "cell_type": "raw",
   "id": "0866fc9f-7b5e-414f-969a-94fbdcf13563",
   "metadata": {},
   "source": [
    "X = np.array([[200, 17]])\n",
    "W = np.array([[1, -3, 5],\n",
    "             [-2, 4, -6]])\n",
    "B = np.array([[-1, 1, 2]])\n",
    "\n",
    "def dense(A_in, W, B):\n",
    "    Z = np.matmul(A_in, W) + B #matmul : matrix multiplication\n",
    "    A_out = g(Z)\n",
    "    return A_out"
   ]
  },
  {
   "cell_type": "raw",
   "id": "6bdc94f4-5545-4658-92a2-ed8b61b80244",
   "metadata": {},
   "source": [
    "AT = A.T # transpose \n",
    "Z = np.matmul(A,W)\n",
    "Z = AT @ W # @ = matrix multiplication"
   ]
  },
  {
   "cell_type": "code",
   "execution_count": null,
   "id": "5f18f339-0fd8-4991-83d1-e6b997a179b1",
   "metadata": {},
   "outputs": [],
   "source": []
  }
 ],
 "metadata": {
  "kernelspec": {
   "display_name": "Python 3 (ipykernel)",
   "language": "python",
   "name": "python3"
  },
  "language_info": {
   "codemirror_mode": {
    "name": "ipython",
    "version": 3
   },
   "file_extension": ".py",
   "mimetype": "text/x-python",
   "name": "python",
   "nbconvert_exporter": "python",
   "pygments_lexer": "ipython3",
   "version": "3.13.2"
  }
 },
 "nbformat": 4,
 "nbformat_minor": 5
}
